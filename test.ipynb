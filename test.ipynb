{
 "cells": [
  {
   "cell_type": "code",
   "execution_count": 11,
   "metadata": {},
   "outputs": [
    {
     "name": "stderr",
     "output_type": "stream",
     "text": [
      "/Library/Frameworks/Python.framework/Versions/3.10/lib/python3.10/site-packages/torch/serialization.py:799: UserWarning: 'torch.load' received a zip file that looks like a TorchScript archive dispatching to 'torch.jit.load' (call 'torch.jit.load' directly to silence this warning)\n",
      "  warnings.warn(\"'torch.load' received a zip file that looks like a TorchScript archive\"\n"
     ]
    }
   ],
   "source": [
    "import torch\n",
    "import numpy as np\n",
    "model = torch.load('tracedModel.pt')\n",
    "batch_x = torch.randn([1, 96, 31]).cpu()\n",
    "batch_x_mark = torch.randn([1, 96, 4]).cpu()\n",
    "dec_inp = torch.randn([1, 144, 31]).cpu()\n",
    "batch_y_mark = torch.randn([1, 144, 4]).cpu()\n",
    "\n",
    "tensor = model(batch_x, batch_x_mark, dec_inp, batch_y_mark)\n",
    "\n",
    "array = tensor.squeeze().detach().numpy()\n",
    "\n",
    "# save the numpy array to a CSV file\n",
    "np.savetxt(\"tensor.csv\", array, delimiter=\",\")\n"
   ]
  },
  {
   "cell_type": "code",
   "execution_count": 21,
   "metadata": {},
   "outputs": [
    {
     "name": "stdout",
     "output_type": "stream",
     "text": [
      "31\n"
     ]
    }
   ],
   "source": [
    "import numpy as np\n",
    "import pandas as pd\n",
    "\n",
    "# Load the .npy file\n",
    "data_array = np.load('results/weather_96_96_Autoformer_custom_ftM_sl96_ll48_pl96_dm512_nh8_el2_dl1_df2048_fc3_ebtimeF_dtTrue_Exp_0/real_prediction.npy')\n",
    "\n",
    "# Convert the array to a DataFrame\n",
    "df = pd.DataFrame(data_array)\n",
    "dfcol = pd.read_csv('data.csv')\n",
    "dfcol = dfcol.drop('date', axis=1)\n",
    "print(len(dfcol.columns))\n",
    "# print(dfcol.columns)\n",
    "df.rename(columns={i: col for i, col in enumerate(dfcol)}, inplace=True)\n",
    "# Print the DataFrame\n",
    "# print(df)s\n",
    "# Save the DataFrame to CSV\n",
    "df.to_csv('results/weather_96_96_Autoformer_custom_ftM_sl96_ll48_pl96_dm512_nh8_el2_dl1_df2048_fc3_ebtimeF_dtTrue_Exp_0/real_prediction.csv', index=False)\n"
   ]
  }
 ],
 "metadata": {
  "kernelspec": {
   "display_name": "Python 3",
   "language": "python",
   "name": "python3"
  },
  "language_info": {
   "codemirror_mode": {
    "name": "ipython",
    "version": 3
   },
   "file_extension": ".py",
   "mimetype": "text/x-python",
   "name": "python",
   "nbconvert_exporter": "python",
   "pygments_lexer": "ipython3",
   "version": "3.10.1"
  },
  "orig_nbformat": 4
 },
 "nbformat": 4,
 "nbformat_minor": 2
}
